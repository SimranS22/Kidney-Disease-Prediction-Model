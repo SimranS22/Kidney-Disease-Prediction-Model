{
  "cells": [
    {
      "cell_type": "markdown",
      "metadata": {
        "id": "tlwVnoxChQA_"
      },
      "source": [
        "# **Kidney Disease Prediction Model**\n",
        "\n",
        "\n",
        "\n",
        "[Click here for the Kaggle Dataset](https://www.kaggle.com/datasets/mansoordaku/ckdisease)"
      ]
    },
    {
      "cell_type": "markdown",
      "metadata": {
        "id": "uDIVag0yhQBD"
      },
      "source": [
        "## Step 1: Import the necessary libraries"
      ]
    },
    {
      "cell_type": "code",
      "execution_count": 2,
      "metadata": {
        "id": "7pNuIsPOhQBE"
      },
      "outputs": [],
      "source": [
        "import warnings\n",
        "warnings.filterwarnings(\"ignore\")\n",
        "\n",
        "#for data manipulation\n",
        "import pandas as pd\n",
        "import numpy as np\n",
        "\n",
        "#for data visualisation\n",
        "import matplotlib.pyplot as plt\n",
        "import seaborn as sns\n",
        "import plotly.express as px\n",
        "\n",
        "#for data modelling\n",
        "from sklearn.model_selection import train_test_split\n",
        "from sklearn.preprocessing import StandardScaler\n",
        "from sklearn.neighbors import KNeighborsClassifier\n",
        "from sklearn.linear_model import LogisticRegression\n",
        "from sklearn.ensemble import RandomForestClassifier\n",
        "from sklearn.svm import SVC\n",
        "from sklearn.naive_bayes import GaussianNB\n",
        "from sklearn.tree import DecisionTreeClassifier\n",
        "from sklearn.ensemble import BaggingClassifier\n",
        "from sklearn.ensemble import AdaBoostClassifier\n",
        "from sklearn.ensemble import VotingClassifier\n",
        "import xgboost as xgb\n",
        "import pickle\n",
        "\n",
        "#for model evaluation\n",
        "from sklearn.metrics import confusion_matrix, precision_score, recall_score, f1_score\n",
        "from sklearn.model_selection import cross_val_score\n",
        "from sklearn.metrics import accuracy_score\n",
        "from sklearn.inspection import permutation_importance"
      ]
    },
    {
      "cell_type": "markdown",
      "metadata": {
        "id": "l2esPJ5PhQBH"
      },
      "source": [
        "## Step 2: Load the dataset"
      ]
    },
    {
      "cell_type": "code",
      "execution_count": 3,
      "metadata": {
        "id": "W5op9SnUhQBH"
      },
      "outputs": [],
      "source": [
        "df = pd.read_csv(r'/workspaces/Kidney-Disease-Prediction-Model/Data/data.csv')"
      ]
    },
    {
      "cell_type": "markdown",
      "metadata": {
        "id": "wVNhSGTFhQBI"
      },
      "source": [
        "## Step 3: Introductory Insights\n",
        "\n",
        "Obtain introductory information such as shape of the data, number of rows, number of columns, etc."
      ]
    },
    {
      "cell_type": "code",
      "execution_count": 4,
      "metadata": {
        "colab": {
          "base_uri": "https://localhost:8080/",
          "height": 206
        },
        "id": "Kszx0OVkhQBI",
        "outputId": "91afd6e9-a037-43a1-c3f1-ee54dc697296"
      },
      "outputs": [
        {
          "data": {
            "text/html": [
              "<div>\n",
              "<style scoped>\n",
              "    .dataframe tbody tr th:only-of-type {\n",
              "        vertical-align: middle;\n",
              "    }\n",
              "\n",
              "    .dataframe tbody tr th {\n",
              "        vertical-align: top;\n",
              "    }\n",
              "\n",
              "    .dataframe thead th {\n",
              "        text-align: right;\n",
              "    }\n",
              "</style>\n",
              "<table border=\"1\" class=\"dataframe\">\n",
              "  <thead>\n",
              "    <tr style=\"text-align: right;\">\n",
              "      <th></th>\n",
              "      <th>age</th>\n",
              "      <th>bp</th>\n",
              "      <th>sg</th>\n",
              "      <th>al</th>\n",
              "      <th>su</th>\n",
              "      <th>rbc</th>\n",
              "      <th>pc</th>\n",
              "      <th>pcc</th>\n",
              "      <th>ba</th>\n",
              "      <th>bgr</th>\n",
              "      <th>...</th>\n",
              "      <th>pcv</th>\n",
              "      <th>wc</th>\n",
              "      <th>rc</th>\n",
              "      <th>htn</th>\n",
              "      <th>dm</th>\n",
              "      <th>cad</th>\n",
              "      <th>appet</th>\n",
              "      <th>pe</th>\n",
              "      <th>ane</th>\n",
              "      <th>classification</th>\n",
              "    </tr>\n",
              "  </thead>\n",
              "  <tbody>\n",
              "    <tr>\n",
              "      <th>0</th>\n",
              "      <td>48.0</td>\n",
              "      <td>80.0</td>\n",
              "      <td>1.020</td>\n",
              "      <td>1.0</td>\n",
              "      <td>0.0</td>\n",
              "      <td>NaN</td>\n",
              "      <td>normal</td>\n",
              "      <td>notpresent</td>\n",
              "      <td>notpresent</td>\n",
              "      <td>121.0</td>\n",
              "      <td>...</td>\n",
              "      <td>44</td>\n",
              "      <td>7800</td>\n",
              "      <td>5.2</td>\n",
              "      <td>yes</td>\n",
              "      <td>yes</td>\n",
              "      <td>no</td>\n",
              "      <td>good</td>\n",
              "      <td>no</td>\n",
              "      <td>no</td>\n",
              "      <td>ckd</td>\n",
              "    </tr>\n",
              "    <tr>\n",
              "      <th>1</th>\n",
              "      <td>7.0</td>\n",
              "      <td>50.0</td>\n",
              "      <td>1.020</td>\n",
              "      <td>4.0</td>\n",
              "      <td>0.0</td>\n",
              "      <td>NaN</td>\n",
              "      <td>normal</td>\n",
              "      <td>notpresent</td>\n",
              "      <td>notpresent</td>\n",
              "      <td>NaN</td>\n",
              "      <td>...</td>\n",
              "      <td>38</td>\n",
              "      <td>6000</td>\n",
              "      <td>NaN</td>\n",
              "      <td>no</td>\n",
              "      <td>no</td>\n",
              "      <td>no</td>\n",
              "      <td>good</td>\n",
              "      <td>no</td>\n",
              "      <td>no</td>\n",
              "      <td>ckd</td>\n",
              "    </tr>\n",
              "    <tr>\n",
              "      <th>2</th>\n",
              "      <td>62.0</td>\n",
              "      <td>80.0</td>\n",
              "      <td>1.010</td>\n",
              "      <td>2.0</td>\n",
              "      <td>3.0</td>\n",
              "      <td>normal</td>\n",
              "      <td>normal</td>\n",
              "      <td>notpresent</td>\n",
              "      <td>notpresent</td>\n",
              "      <td>423.0</td>\n",
              "      <td>...</td>\n",
              "      <td>31</td>\n",
              "      <td>7500</td>\n",
              "      <td>NaN</td>\n",
              "      <td>no</td>\n",
              "      <td>yes</td>\n",
              "      <td>no</td>\n",
              "      <td>poor</td>\n",
              "      <td>no</td>\n",
              "      <td>yes</td>\n",
              "      <td>ckd</td>\n",
              "    </tr>\n",
              "    <tr>\n",
              "      <th>3</th>\n",
              "      <td>48.0</td>\n",
              "      <td>70.0</td>\n",
              "      <td>1.005</td>\n",
              "      <td>4.0</td>\n",
              "      <td>0.0</td>\n",
              "      <td>normal</td>\n",
              "      <td>abnormal</td>\n",
              "      <td>present</td>\n",
              "      <td>notpresent</td>\n",
              "      <td>117.0</td>\n",
              "      <td>...</td>\n",
              "      <td>32</td>\n",
              "      <td>6700</td>\n",
              "      <td>3.9</td>\n",
              "      <td>yes</td>\n",
              "      <td>no</td>\n",
              "      <td>no</td>\n",
              "      <td>poor</td>\n",
              "      <td>yes</td>\n",
              "      <td>yes</td>\n",
              "      <td>ckd</td>\n",
              "    </tr>\n",
              "    <tr>\n",
              "      <th>4</th>\n",
              "      <td>51.0</td>\n",
              "      <td>80.0</td>\n",
              "      <td>1.010</td>\n",
              "      <td>2.0</td>\n",
              "      <td>0.0</td>\n",
              "      <td>normal</td>\n",
              "      <td>normal</td>\n",
              "      <td>notpresent</td>\n",
              "      <td>notpresent</td>\n",
              "      <td>106.0</td>\n",
              "      <td>...</td>\n",
              "      <td>35</td>\n",
              "      <td>7300</td>\n",
              "      <td>4.6</td>\n",
              "      <td>no</td>\n",
              "      <td>no</td>\n",
              "      <td>no</td>\n",
              "      <td>good</td>\n",
              "      <td>no</td>\n",
              "      <td>no</td>\n",
              "      <td>ckd</td>\n",
              "    </tr>\n",
              "  </tbody>\n",
              "</table>\n",
              "<p>5 rows × 25 columns</p>\n",
              "</div>"
            ],
            "text/plain": [
              "    age    bp     sg   al   su     rbc        pc         pcc          ba  \\\n",
              "0  48.0  80.0  1.020  1.0  0.0     NaN    normal  notpresent  notpresent   \n",
              "1   7.0  50.0  1.020  4.0  0.0     NaN    normal  notpresent  notpresent   \n",
              "2  62.0  80.0  1.010  2.0  3.0  normal    normal  notpresent  notpresent   \n",
              "3  48.0  70.0  1.005  4.0  0.0  normal  abnormal     present  notpresent   \n",
              "4  51.0  80.0  1.010  2.0  0.0  normal    normal  notpresent  notpresent   \n",
              "\n",
              "     bgr  ...  pcv    wc   rc  htn   dm cad appet   pe  ane classification  \n",
              "0  121.0  ...   44  7800  5.2  yes  yes  no  good   no   no            ckd  \n",
              "1    NaN  ...   38  6000  NaN   no   no  no  good   no   no            ckd  \n",
              "2  423.0  ...   31  7500  NaN   no  yes  no  poor   no  yes            ckd  \n",
              "3  117.0  ...   32  6700  3.9  yes   no  no  poor  yes  yes            ckd  \n",
              "4  106.0  ...   35  7300  4.6   no   no  no  good   no   no            ckd  \n",
              "\n",
              "[5 rows x 25 columns]"
            ]
          },
          "execution_count": 4,
          "metadata": {},
          "output_type": "execute_result"
        }
      ],
      "source": [
        "df.head(5)"
      ]
    },
    {
      "cell_type": "code",
      "execution_count": 5,
      "metadata": {
        "colab": {
          "base_uri": "https://localhost:8080/",
          "height": 206
        },
        "id": "hqFp95MYhQBJ",
        "outputId": "aad77eb0-8e1e-4861-d374-9ceff0b22a8e"
      },
      "outputs": [
        {
          "data": {
            "text/html": [
              "<div>\n",
              "<style scoped>\n",
              "    .dataframe tbody tr th:only-of-type {\n",
              "        vertical-align: middle;\n",
              "    }\n",
              "\n",
              "    .dataframe tbody tr th {\n",
              "        vertical-align: top;\n",
              "    }\n",
              "\n",
              "    .dataframe thead th {\n",
              "        text-align: right;\n",
              "    }\n",
              "</style>\n",
              "<table border=\"1\" class=\"dataframe\">\n",
              "  <thead>\n",
              "    <tr style=\"text-align: right;\">\n",
              "      <th></th>\n",
              "      <th>age</th>\n",
              "      <th>bp</th>\n",
              "      <th>sg</th>\n",
              "      <th>al</th>\n",
              "      <th>su</th>\n",
              "      <th>rbc</th>\n",
              "      <th>pc</th>\n",
              "      <th>pcc</th>\n",
              "      <th>ba</th>\n",
              "      <th>bgr</th>\n",
              "      <th>...</th>\n",
              "      <th>pcv</th>\n",
              "      <th>wc</th>\n",
              "      <th>rc</th>\n",
              "      <th>htn</th>\n",
              "      <th>dm</th>\n",
              "      <th>cad</th>\n",
              "      <th>appet</th>\n",
              "      <th>pe</th>\n",
              "      <th>ane</th>\n",
              "      <th>classification</th>\n",
              "    </tr>\n",
              "  </thead>\n",
              "  <tbody>\n",
              "    <tr>\n",
              "      <th>395</th>\n",
              "      <td>55.0</td>\n",
              "      <td>80.0</td>\n",
              "      <td>1.020</td>\n",
              "      <td>0.0</td>\n",
              "      <td>0.0</td>\n",
              "      <td>normal</td>\n",
              "      <td>normal</td>\n",
              "      <td>notpresent</td>\n",
              "      <td>notpresent</td>\n",
              "      <td>140.0</td>\n",
              "      <td>...</td>\n",
              "      <td>47</td>\n",
              "      <td>6700</td>\n",
              "      <td>4.9</td>\n",
              "      <td>no</td>\n",
              "      <td>no</td>\n",
              "      <td>no</td>\n",
              "      <td>good</td>\n",
              "      <td>no</td>\n",
              "      <td>no</td>\n",
              "      <td>notckd</td>\n",
              "    </tr>\n",
              "    <tr>\n",
              "      <th>396</th>\n",
              "      <td>42.0</td>\n",
              "      <td>70.0</td>\n",
              "      <td>1.025</td>\n",
              "      <td>0.0</td>\n",
              "      <td>0.0</td>\n",
              "      <td>normal</td>\n",
              "      <td>normal</td>\n",
              "      <td>notpresent</td>\n",
              "      <td>notpresent</td>\n",
              "      <td>75.0</td>\n",
              "      <td>...</td>\n",
              "      <td>54</td>\n",
              "      <td>7800</td>\n",
              "      <td>6.2</td>\n",
              "      <td>no</td>\n",
              "      <td>no</td>\n",
              "      <td>no</td>\n",
              "      <td>good</td>\n",
              "      <td>no</td>\n",
              "      <td>no</td>\n",
              "      <td>notckd</td>\n",
              "    </tr>\n",
              "    <tr>\n",
              "      <th>397</th>\n",
              "      <td>12.0</td>\n",
              "      <td>80.0</td>\n",
              "      <td>1.020</td>\n",
              "      <td>0.0</td>\n",
              "      <td>0.0</td>\n",
              "      <td>normal</td>\n",
              "      <td>normal</td>\n",
              "      <td>notpresent</td>\n",
              "      <td>notpresent</td>\n",
              "      <td>100.0</td>\n",
              "      <td>...</td>\n",
              "      <td>49</td>\n",
              "      <td>6600</td>\n",
              "      <td>5.4</td>\n",
              "      <td>no</td>\n",
              "      <td>no</td>\n",
              "      <td>no</td>\n",
              "      <td>good</td>\n",
              "      <td>no</td>\n",
              "      <td>no</td>\n",
              "      <td>notckd</td>\n",
              "    </tr>\n",
              "    <tr>\n",
              "      <th>398</th>\n",
              "      <td>17.0</td>\n",
              "      <td>60.0</td>\n",
              "      <td>1.025</td>\n",
              "      <td>0.0</td>\n",
              "      <td>0.0</td>\n",
              "      <td>normal</td>\n",
              "      <td>normal</td>\n",
              "      <td>notpresent</td>\n",
              "      <td>notpresent</td>\n",
              "      <td>114.0</td>\n",
              "      <td>...</td>\n",
              "      <td>51</td>\n",
              "      <td>7200</td>\n",
              "      <td>5.9</td>\n",
              "      <td>no</td>\n",
              "      <td>no</td>\n",
              "      <td>no</td>\n",
              "      <td>good</td>\n",
              "      <td>no</td>\n",
              "      <td>no</td>\n",
              "      <td>notckd</td>\n",
              "    </tr>\n",
              "    <tr>\n",
              "      <th>399</th>\n",
              "      <td>58.0</td>\n",
              "      <td>80.0</td>\n",
              "      <td>1.025</td>\n",
              "      <td>0.0</td>\n",
              "      <td>0.0</td>\n",
              "      <td>normal</td>\n",
              "      <td>normal</td>\n",
              "      <td>notpresent</td>\n",
              "      <td>notpresent</td>\n",
              "      <td>131.0</td>\n",
              "      <td>...</td>\n",
              "      <td>53</td>\n",
              "      <td>6800</td>\n",
              "      <td>6.1</td>\n",
              "      <td>no</td>\n",
              "      <td>no</td>\n",
              "      <td>no</td>\n",
              "      <td>good</td>\n",
              "      <td>no</td>\n",
              "      <td>no</td>\n",
              "      <td>notckd</td>\n",
              "    </tr>\n",
              "  </tbody>\n",
              "</table>\n",
              "<p>5 rows × 25 columns</p>\n",
              "</div>"
            ],
            "text/plain": [
              "      age    bp     sg   al   su     rbc      pc         pcc          ba  \\\n",
              "395  55.0  80.0  1.020  0.0  0.0  normal  normal  notpresent  notpresent   \n",
              "396  42.0  70.0  1.025  0.0  0.0  normal  normal  notpresent  notpresent   \n",
              "397  12.0  80.0  1.020  0.0  0.0  normal  normal  notpresent  notpresent   \n",
              "398  17.0  60.0  1.025  0.0  0.0  normal  normal  notpresent  notpresent   \n",
              "399  58.0  80.0  1.025  0.0  0.0  normal  normal  notpresent  notpresent   \n",
              "\n",
              "       bgr  ...  pcv    wc   rc  htn  dm cad appet  pe ane classification  \n",
              "395  140.0  ...   47  6700  4.9   no  no  no  good  no  no         notckd  \n",
              "396   75.0  ...   54  7800  6.2   no  no  no  good  no  no         notckd  \n",
              "397  100.0  ...   49  6600  5.4   no  no  no  good  no  no         notckd  \n",
              "398  114.0  ...   51  7200  5.9   no  no  no  good  no  no         notckd  \n",
              "399  131.0  ...   53  6800  6.1   no  no  no  good  no  no         notckd  \n",
              "\n",
              "[5 rows x 25 columns]"
            ]
          },
          "execution_count": 5,
          "metadata": {},
          "output_type": "execute_result"
        }
      ],
      "source": [
        "df.tail(5)"
      ]
    },
    {
      "cell_type": "code",
      "execution_count": 6,
      "metadata": {
        "colab": {
          "base_uri": "https://localhost:8080/"
        },
        "id": "-PSvcTWshQBJ",
        "outputId": "8fef2883-e4f1-4032-d152-c16941dbd6d8"
      },
      "outputs": [
        {
          "name": "stdout",
          "output_type": "stream",
          "text": [
            "Information about the columns and its datatypes\n",
            "<class 'pandas.core.frame.DataFrame'>\n",
            "RangeIndex: 400 entries, 0 to 399\n",
            "Data columns (total 25 columns):\n",
            " #   Column          Non-Null Count  Dtype  \n",
            "---  ------          --------------  -----  \n",
            " 0   age             391 non-null    float64\n",
            " 1   bp              388 non-null    float64\n",
            " 2   sg              353 non-null    float64\n",
            " 3   al              354 non-null    float64\n",
            " 4   su              351 non-null    float64\n",
            " 5   rbc             248 non-null    object \n",
            " 6   pc              335 non-null    object \n",
            " 7   pcc             396 non-null    object \n",
            " 8   ba              396 non-null    object \n",
            " 9   bgr             356 non-null    float64\n",
            " 10  bu              381 non-null    float64\n",
            " 11  sc              383 non-null    float64\n",
            " 12  sod             313 non-null    float64\n",
            " 13  pot             312 non-null    float64\n",
            " 14  hemo            348 non-null    float64\n",
            " 15  pcv             330 non-null    object \n",
            " 16  wc              295 non-null    object \n",
            " 17  rc              270 non-null    object \n",
            " 18  htn             398 non-null    object \n",
            " 19  dm              398 non-null    object \n",
            " 20  cad             398 non-null    object \n",
            " 21  appet           399 non-null    object \n",
            " 22  pe              399 non-null    object \n",
            " 23  ane             399 non-null    object \n",
            " 24  classification  400 non-null    object \n",
            "dtypes: float64(11), object(14)\n",
            "memory usage: 78.2+ KB\n",
            "\n",
            "Shape of the data\n",
            "(400, 25)\n",
            "Number of Rows : 400\n",
            "Number of Columns : 25\n"
          ]
        }
      ],
      "source": [
        "print('Information about the columns and its datatypes')\n",
        "df.info()\n",
        "\n",
        "print('\\nShape of the data')\n",
        "print(df.shape)\n",
        "row, col = df.shape\n",
        "\n",
        "print('Number of Rows :', row)\n",
        "print('Number of Columns :', col)"
      ]
    },
    {
      "cell_type": "markdown",
      "metadata": {
        "id": "yXjiOWK5hQBK"
      },
      "source": [
        "## Step 4: Statistical Insights\n",
        "\n",
        "Obtain the mean, standard deviation, etc. from the data"
      ]
    },
    {
      "cell_type": "code",
      "execution_count": 7,
      "metadata": {
        "colab": {
          "base_uri": "https://localhost:8080/",
          "height": 300
        },
        "id": "zng2PHZlhQBK",
        "outputId": "ddf1a830-035d-4e6f-97ee-6bc8bb9f85c9"
      },
      "outputs": [
        {
          "data": {
            "text/html": [
              "<div>\n",
              "<style scoped>\n",
              "    .dataframe tbody tr th:only-of-type {\n",
              "        vertical-align: middle;\n",
              "    }\n",
              "\n",
              "    .dataframe tbody tr th {\n",
              "        vertical-align: top;\n",
              "    }\n",
              "\n",
              "    .dataframe thead th {\n",
              "        text-align: right;\n",
              "    }\n",
              "</style>\n",
              "<table border=\"1\" class=\"dataframe\">\n",
              "  <thead>\n",
              "    <tr style=\"text-align: right;\">\n",
              "      <th></th>\n",
              "      <th>age</th>\n",
              "      <th>bp</th>\n",
              "      <th>sg</th>\n",
              "      <th>al</th>\n",
              "      <th>su</th>\n",
              "      <th>bgr</th>\n",
              "      <th>bu</th>\n",
              "      <th>sc</th>\n",
              "      <th>sod</th>\n",
              "      <th>pot</th>\n",
              "      <th>hemo</th>\n",
              "    </tr>\n",
              "  </thead>\n",
              "  <tbody>\n",
              "    <tr>\n",
              "      <th>count</th>\n",
              "      <td>391.000000</td>\n",
              "      <td>388.000000</td>\n",
              "      <td>353.000000</td>\n",
              "      <td>354.000000</td>\n",
              "      <td>351.000000</td>\n",
              "      <td>356.000000</td>\n",
              "      <td>381.000000</td>\n",
              "      <td>383.000000</td>\n",
              "      <td>313.000000</td>\n",
              "      <td>312.000000</td>\n",
              "      <td>348.000000</td>\n",
              "    </tr>\n",
              "    <tr>\n",
              "      <th>mean</th>\n",
              "      <td>51.483376</td>\n",
              "      <td>76.469072</td>\n",
              "      <td>1.017408</td>\n",
              "      <td>1.016949</td>\n",
              "      <td>0.450142</td>\n",
              "      <td>148.036517</td>\n",
              "      <td>57.425722</td>\n",
              "      <td>3.072454</td>\n",
              "      <td>137.528754</td>\n",
              "      <td>4.627244</td>\n",
              "      <td>12.526437</td>\n",
              "    </tr>\n",
              "    <tr>\n",
              "      <th>std</th>\n",
              "      <td>17.169714</td>\n",
              "      <td>13.683637</td>\n",
              "      <td>0.005717</td>\n",
              "      <td>1.352679</td>\n",
              "      <td>1.099191</td>\n",
              "      <td>79.281714</td>\n",
              "      <td>50.503006</td>\n",
              "      <td>5.741126</td>\n",
              "      <td>10.408752</td>\n",
              "      <td>3.193904</td>\n",
              "      <td>2.912587</td>\n",
              "    </tr>\n",
              "    <tr>\n",
              "      <th>min</th>\n",
              "      <td>2.000000</td>\n",
              "      <td>50.000000</td>\n",
              "      <td>1.005000</td>\n",
              "      <td>0.000000</td>\n",
              "      <td>0.000000</td>\n",
              "      <td>22.000000</td>\n",
              "      <td>1.500000</td>\n",
              "      <td>0.400000</td>\n",
              "      <td>4.500000</td>\n",
              "      <td>2.500000</td>\n",
              "      <td>3.100000</td>\n",
              "    </tr>\n",
              "    <tr>\n",
              "      <th>25%</th>\n",
              "      <td>42.000000</td>\n",
              "      <td>70.000000</td>\n",
              "      <td>1.010000</td>\n",
              "      <td>0.000000</td>\n",
              "      <td>0.000000</td>\n",
              "      <td>99.000000</td>\n",
              "      <td>27.000000</td>\n",
              "      <td>0.900000</td>\n",
              "      <td>135.000000</td>\n",
              "      <td>3.800000</td>\n",
              "      <td>10.300000</td>\n",
              "    </tr>\n",
              "    <tr>\n",
              "      <th>50%</th>\n",
              "      <td>55.000000</td>\n",
              "      <td>80.000000</td>\n",
              "      <td>1.020000</td>\n",
              "      <td>0.000000</td>\n",
              "      <td>0.000000</td>\n",
              "      <td>121.000000</td>\n",
              "      <td>42.000000</td>\n",
              "      <td>1.300000</td>\n",
              "      <td>138.000000</td>\n",
              "      <td>4.400000</td>\n",
              "      <td>12.650000</td>\n",
              "    </tr>\n",
              "    <tr>\n",
              "      <th>75%</th>\n",
              "      <td>64.500000</td>\n",
              "      <td>80.000000</td>\n",
              "      <td>1.020000</td>\n",
              "      <td>2.000000</td>\n",
              "      <td>0.000000</td>\n",
              "      <td>163.000000</td>\n",
              "      <td>66.000000</td>\n",
              "      <td>2.800000</td>\n",
              "      <td>142.000000</td>\n",
              "      <td>4.900000</td>\n",
              "      <td>15.000000</td>\n",
              "    </tr>\n",
              "    <tr>\n",
              "      <th>max</th>\n",
              "      <td>90.000000</td>\n",
              "      <td>180.000000</td>\n",
              "      <td>1.025000</td>\n",
              "      <td>5.000000</td>\n",
              "      <td>5.000000</td>\n",
              "      <td>490.000000</td>\n",
              "      <td>391.000000</td>\n",
              "      <td>76.000000</td>\n",
              "      <td>163.000000</td>\n",
              "      <td>47.000000</td>\n",
              "      <td>17.800000</td>\n",
              "    </tr>\n",
              "  </tbody>\n",
              "</table>\n",
              "</div>"
            ],
            "text/plain": [
              "              age          bp          sg          al          su         bgr  \\\n",
              "count  391.000000  388.000000  353.000000  354.000000  351.000000  356.000000   \n",
              "mean    51.483376   76.469072    1.017408    1.016949    0.450142  148.036517   \n",
              "std     17.169714   13.683637    0.005717    1.352679    1.099191   79.281714   \n",
              "min      2.000000   50.000000    1.005000    0.000000    0.000000   22.000000   \n",
              "25%     42.000000   70.000000    1.010000    0.000000    0.000000   99.000000   \n",
              "50%     55.000000   80.000000    1.020000    0.000000    0.000000  121.000000   \n",
              "75%     64.500000   80.000000    1.020000    2.000000    0.000000  163.000000   \n",
              "max     90.000000  180.000000    1.025000    5.000000    5.000000  490.000000   \n",
              "\n",
              "               bu          sc         sod         pot        hemo  \n",
              "count  381.000000  383.000000  313.000000  312.000000  348.000000  \n",
              "mean    57.425722    3.072454  137.528754    4.627244   12.526437  \n",
              "std     50.503006    5.741126   10.408752    3.193904    2.912587  \n",
              "min      1.500000    0.400000    4.500000    2.500000    3.100000  \n",
              "25%     27.000000    0.900000  135.000000    3.800000   10.300000  \n",
              "50%     42.000000    1.300000  138.000000    4.400000   12.650000  \n",
              "75%     66.000000    2.800000  142.000000    4.900000   15.000000  \n",
              "max    391.000000   76.000000  163.000000   47.000000   17.800000  "
            ]
          },
          "execution_count": 7,
          "metadata": {},
          "output_type": "execute_result"
        }
      ],
      "source": [
        "df.describe()"
      ]
    },
    {
      "cell_type": "markdown",
      "metadata": {},
      "source": [
        "### Pus Cells"
      ]
    },
    {
      "cell_type": "code",
      "execution_count": 23,
      "metadata": {},
      "outputs": [
        {
          "data": {
            "text/plain": [
              "<Axes: xlabel='pc'>"
            ]
          },
          "execution_count": 23,
          "metadata": {},
          "output_type": "execute_result"
        },
        {
          "data": {
            "image/png": "[encoded data removed]",
            "text/plain": [
              "<Figure size 640x480 with 1 Axes>"
            ]
          },
          "metadata": {},
          "output_type": "display_data"
        }
      ],
      "source": [
        "sns.boxplot(x = 'pc', data=df, color='Orange')"
      ]
    },
    {
      "cell_type": "markdown",
      "metadata": {
        "id": "ZiR7aQd-hQBL"
      },
      "source": [
        "## Step 5: Data Cleaning\n",
        "\n",
        "Handling outliers, duplicates and missing values"
      ]
    },
    {
      "cell_type": "markdown",
      "metadata": {
        "id": "yueEMSE4hQBL"
      },
      "source": [
        "### Missing Values"
      ]
    },
    {
      "cell_type": "code",
      "execution_count": 9,
      "metadata": {
        "colab": {
          "base_uri": "https://localhost:8080/"
        },
        "id": "4Z0AYeg7hQBM",
        "outputId": "8f790ac1-04d9-4501-e478-1b08965377cb"
      },
      "outputs": [
        {
          "data": {
            "text/plain": [
              "age                 9\n",
              "bp                 12\n",
              "sg                 47\n",
              "al                 46\n",
              "su                 49\n",
              "rbc               152\n",
              "pc                 65\n",
              "pcc                 4\n",
              "ba                  4\n",
              "bgr                44\n",
              "bu                 19\n",
              "sc                 17\n",
              "sod                87\n",
              "pot                88\n",
              "hemo               52\n",
              "pcv                70\n",
              "wc                105\n",
              "rc                130\n",
              "htn                 2\n",
              "dm                  2\n",
              "cad                 2\n",
              "appet               1\n",
              "pe                  1\n",
              "ane                 1\n",
              "classification      0\n",
              "dtype: int64"
            ]
          },
          "execution_count": 9,
          "metadata": {},
          "output_type": "execute_result"
        }
      ],
      "source": [
        "df.isnull().sum()"
      ]
    },
    {
      "cell_type": "markdown",
      "metadata": {
        "id": "kx6wHMKQhQBM"
      },
      "source": [
        "### Duplicate Values"
      ]
    },
    {
      "cell_type": "code",
      "execution_count": 10,
      "metadata": {
        "colab": {
          "base_uri": "https://localhost:8080/"
        },
        "id": "Qld1BR5BhQBM",
        "outputId": "2f307600-5cbf-4a22-da71-e3e3ee907bc9"
      },
      "outputs": [
        {
          "data": {
            "text/plain": [
              "0"
            ]
          },
          "execution_count": 10,
          "metadata": {},
          "output_type": "execute_result"
        }
      ],
      "source": [
        "df.duplicated().sum()"
      ]
    },
    {
      "cell_type": "markdown",
      "metadata": {
        "id": "MdqlaxFLhQBM"
      },
      "source": [
        "### Outliers\n",
        "\n",
        "Some outliers represent natural variations in the population, and they should be left as is in your dataset. These are called true outliers. Other outliers are problematic and should be removed because they represent measurement errors, data entry or processing errors, or poor sampling."
      ]
    },
    {
      "cell_type": "markdown",
      "metadata": {},
      "source": [
        "### Age\n"
      ]
    },
    {
      "cell_type": "code",
      "execution_count": 13,
      "metadata": {},
      "outputs": [
        {
          "data": {
            "text/plain": [
              "<Axes: xlabel='age'>"
            ]
          },
          "execution_count": 13,
          "metadata": {},
          "output_type": "execute_result"
        },
        {
          "data": {
            "image/png": "[encoded data removed]",
            "text/plain": [
              "<Figure size 640x480 with 1 Axes>"
            ]
          },
          "metadata": {},
          "output_type": "display_data"
        }
      ],
      "source": [
        "sns.boxplot(x = 'age', data=df, color='#fbcf04')"
      ]
    },
    {
      "cell_type": "markdown",
      "metadata": {},
      "source": [
        "### blood pressure"
      ]
    },
    {
      "cell_type": "code",
      "execution_count": 14,
      "metadata": {},
      "outputs": [
        {
          "data": {
            "text/plain": [
              "<Axes: xlabel='bp'>"
            ]
          },
          "execution_count": 14,
          "metadata": {},
          "output_type": "execute_result"
        },
        {
          "data": {
            "image/png": "[encoded data removed]",
            "text/plain": [
              "<Figure size 640x480 with 1 Axes>"
            ]
          },
          "metadata": {},
          "output_type": "display_data"
        }
      ],
      "source": [
        "sns.boxplot(x = 'bp', data=df, color='#47EEFF')"
      ]
    },
    {
      "cell_type": "markdown",
      "metadata": {},
      "source": [
        "The outliers above are problematic. To have a Resting Blood Pressure of below 60 and above 130 is practically impossible, hence we will be removing them."
      ]
    },
    {
      "cell_type": "code",
      "execution_count": 15,
      "metadata": {},
      "outputs": [],
      "source": [
        "df = df[df['bp']>=60]\n",
        "df = df[df['bp']<=130]"
      ]
    },
    {
      "cell_type": "code",
      "execution_count": 16,
      "metadata": {},
      "outputs": [
        {
          "data": {
            "text/plain": [
              "(381, 25)"
            ]
          },
          "execution_count": 16,
          "metadata": {},
          "output_type": "execute_result"
        }
      ],
      "source": [
        "df.shape"
      ]
    },
    {
      "cell_type": "markdown",
      "metadata": {},
      "source": [
        "### Specific gravity"
      ]
    },
    {
      "cell_type": "code",
      "execution_count": 17,
      "metadata": {},
      "outputs": [
        {
          "data": {
            "text/plain": [
              "<Axes: xlabel='sg'>"
            ]
          },
          "execution_count": 17,
          "metadata": {},
          "output_type": "execute_result"
        },
        {
          "data": {
            "image/png": "[encoded data removed]",
            "text/plain": [
              "<Figure size 640x480 with 1 Axes>"
            ]
          },
          "metadata": {},
          "output_type": "display_data"
        }
      ],
      "source": [
        "sns.boxplot(x = 'sg', data=df, color='pink')"
      ]
    },
    {
      "cell_type": "markdown",
      "metadata": {},
      "source": [
        "### Albumin"
      ]
    },
    {
      "cell_type": "code",
      "execution_count": 18,
      "metadata": {},
      "outputs": [
        {
          "data": {
            "text/plain": [
              "<Axes: xlabel='al'>"
            ]
          },
          "execution_count": 18,
          "metadata": {},
          "output_type": "execute_result"
        },
        {
          "data": {
            "image/png": "[encoded data removed]",
            "text/plain": [
              "<Figure size 640x480 with 1 Axes>"
            ]
          },
          "metadata": {},
          "output_type": "display_data"
        }
      ],
      "source": [
        "sns.boxplot(x = 'al', data=df, color='orange')"
      ]
    },
    {
      "cell_type": "markdown",
      "metadata": {},
      "source": [
        "### Sugar"
      ]
    },
    {
      "cell_type": "code",
      "execution_count": 21,
      "metadata": {},
      "outputs": [
        {
          "data": {
            "text/plain": [
              "<Axes: xlabel='su'>"
            ]
          },
          "execution_count": 21,
          "metadata": {},
          "output_type": "execute_result"
        },
        {
          "data": {
            "image/png": "[encoded data removed]",
            "text/plain": [
              "<Figure size 640x480 with 1 Axes>"
            ]
          },
          "metadata": {},
          "output_type": "display_data"
        }
      ],
      "source": [
        "sns.boxplot(x = 'su', data=df, color='pink')"
      ]
    },
    {
      "cell_type": "markdown",
      "metadata": {},
      "source": [
        "### Red blood cells"
      ]
    },
    {
      "cell_type": "code",
      "execution_count": 22,
      "metadata": {},
      "outputs": [
        {
          "data": {
            "text/plain": [
              "<Axes: xlabel='rbc'>"
            ]
          },
          "execution_count": 22,
          "metadata": {},
          "output_type": "execute_result"
        },
        {
          "data": {
            "image/png": "[encoded data removed]",
            "text/plain": [
              "<Figure size 640x480 with 1 Axes>"
            ]
          },
          "metadata": {},
          "output_type": "display_data"
        }
      ],
      "source": [
        "sns.boxplot(x = 'rbc', data=df, color='#da3074')"
      ]
    },
    {
      "cell_type": "markdown",
      "metadata": {
        "id": "rvW29FhDhQBQ"
      },
      "source": [
        "## Step 6: Data Visualisation"
      ]
    },
    {
      "cell_type": "markdown",
      "metadata": {},
      "source": []
    },
    {
      "cell_type": "markdown",
      "metadata": {
        "id": "eqW4cIdzhQBa"
      },
      "source": [
        "## Step 8: Data Modelling\n",
        "\n",
        "* Train-Test-Split\n",
        "* Fit the model to perform predictions\n",
        "* Comparing the following algorithms to see which model performs the best"
      ]
    }
  ],
  "metadata": {
    "colab": {
      "provenance": []
    },
    "kernelspec": {
      "display_name": "Python 3",
      "language": "python",
      "name": "python3"
    },
    "language_info": {
      "codemirror_mode": {
        "name": "ipython",
        "version": 3
      },
      "file_extension": ".py",
      "mimetype": "text/x-python",
      "name": "python",
      "nbconvert_exporter": "python",
      "pygments_lexer": "ipython3",
      "version": "3.10.13"
    },
    "orig_nbformat": 4
  },
  "nbformat": 4,
  "nbformat_minor": 0
}
